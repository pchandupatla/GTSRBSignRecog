{
 "cells": [
  {
   "cell_type": "code",
   "execution_count": 1,
   "metadata": {},
   "outputs": [
    {
     "name": "stderr",
     "output_type": "stream",
     "text": [
      "C:\\Users\\Pranav\\Anaconda3\\lib\\site-packages\\torchvision\\io\\image.py:11: UserWarning: Failed to load image Python extension: [WinError 126] The specified module could not be found\n",
      "  warn(f\"Failed to load image Python extension: {e}\")\n"
     ]
    }
   ],
   "source": [
    "import torch\n",
    "from torch import nn\n",
    "import numpy as np\n",
    "\n",
    "%matplotlib inline\n",
    "import matplotlib.pyplot as plt\n",
    "from torchvision import datasets, transforms"
   ]
  },
  {
   "cell_type": "code",
   "execution_count": 2,
   "metadata": {},
   "outputs": [],
   "source": [
    "# Set up necessary file structure in test\n",
    "import shutil\n",
    "import os\n",
    "import csv\n",
    "def test_folders():\n",
    "    # make folders\n",
    "    all_path = 'GTSRB_Dataset/'\n",
    "    test_path = 'GTSRB_Dataset/Test/'\n",
    "    for i in range(43):\n",
    "        path = os.path.join(test_path, str(i))\n",
    "        os.mkdir(path)\n",
    "    \n",
    "    # assign images to folder based on csv\n",
    "    with open(os.path.join(all_path, 'Test.csv')) as csvfile:\n",
    "        reader = csv.reader(csvfile, delimiter=',')\n",
    "        i = 0\n",
    "        for row in reader:\n",
    "            if i != 0:\n",
    "                dst_path = os.path.join(test_path, row[6])\n",
    "                src_path = os.path.join(all_path, row[7])\n",
    "                shutil.move(src_path, dst_path)\n",
    "            i += 1\n",
    "# test_folders()"
   ]
  },
  {
   "cell_type": "code",
   "execution_count": 3,
   "metadata": {},
   "outputs": [
    {
     "name": "stdout",
     "output_type": "stream",
     "text": [
      "{0: '0', 1: '1', 2: '10', 3: '11', 4: '12', 5: '13', 6: '14', 7: '15', 8: '16', 9: '17', 10: '18', 11: '19', 12: '2', 13: '20', 14: '21', 15: '22', 16: '23', 17: '24', 18: '25', 19: '26', 20: '27', 21: '28', 22: '29', 23: '3', 24: '30', 25: '31', 26: '32', 27: '33', 28: '34', 29: '35', 30: '36', 31: '37', 32: '38', 33: '39', 34: '4', 35: '40', 36: '41', 37: '42', 38: '5', 39: '6', 40: '7', 41: '8', 42: '9'}\n"
     ]
    }
   ],
   "source": [
    "train_dir = 'GTSRB_Dataset/Train'\n",
    "test_dir = 'GTSRB_Dataset/Test'\n",
    "transform = transforms.Compose([\n",
    "    transforms.Resize([112, 112]),\n",
    "    transforms.ToTensor()\n",
    "])\n",
    "train_set = datasets.ImageFolder(root=train_dir, transform=transform)\n",
    "test_set = datasets.ImageFolder(root=test_dir, transform=transform)\n",
    "\n",
    "# test_set = datasets.ImageFolder(root=test_dir, transform=transform)\n",
    "num_labels = 43\n",
    "# making map of pytorch class to actual class\n",
    "idx_to_actual = dict()\n",
    "labels = sorted([str(i) for i in range(num_labels)])\n",
    "for i in range(len(labels)):\n",
    "    idx_to_actual[i] = labels[i]\n",
    "print(idx_to_actual)\n",
    "# print(train_set[0])"
   ]
  },
  {
   "cell_type": "code",
   "execution_count": 4,
   "metadata": {},
   "outputs": [],
   "source": [
    "from torch.utils.data.sampler import SubsetRandomSampler\n",
    "ntotal = 39209\n",
    "ntrain = int(0.9 * ntotal)\n",
    "nval = ntotal - ntrain\n",
    "\n",
    "val_ix = np.random.choice(range(ntotal), size=nval, replace=False)\n",
    "train_ix = list(set(range(ntotal)) - set(val_ix))\n",
    "\n",
    "train_sampler = SubsetRandomSampler(train_ix)\n",
    "val_sampler = SubsetRandomSampler(val_ix)"
   ]
  },
  {
   "cell_type": "code",
   "execution_count": 5,
   "metadata": {},
   "outputs": [],
   "source": [
    "batch_size = 200\n",
    "train_loader = torch.utils.data.DataLoader(train_set, batch_size=batch_size, sampler=train_sampler)\n",
    "val_loader = torch.utils.data.DataLoader(train_set, batch_size=batch_size, sampler=val_sampler)\n",
    "test_loader = torch.utils.data.DataLoader(test_set, batch_size=batch_size)"
   ]
  },
  {
   "cell_type": "code",
   "execution_count": 8,
   "metadata": {},
   "outputs": [],
   "source": [
    "# Code taken from Pytorch documentation\n",
    "import torchvision.transforms.functional as F\n",
    "\n",
    "\n",
    "plt.rcParams[\"savefig.bbox\"] = 'tight'\n",
    "\n",
    "\n",
    "def show(imgs):\n",
    "    if not isinstance(imgs, list):\n",
    "        imgs = [imgs]\n",
    "    fig, axs = plt.subplots(ncols=len(imgs), squeeze=False)\n",
    "    for i, img in enumerate(imgs):\n",
    "        img = img.detach()\n",
    "        img = F.to_pil_image(img)\n",
    "        axs[0, i].imshow(np.asarray(img))\n",
    "        axs[0, i].set(xticklabels=[], yticklabels=[], xticks=[], yticks=[])"
   ]
  },
  {
   "cell_type": "code",
   "execution_count": 9,
   "metadata": {},
   "outputs": [
    {
     "name": "stdout",
     "output_type": "stream",
     "text": [
      "torch.Size([3, 112, 112])\n",
      "4\n"
     ]
    },
    {
     "data": {
      "image/png": "[encoded data removed]",
      "text/plain": [
       "<Figure size 432x288 with 1 Axes>"
      ]
     },
     "metadata": {},
     "output_type": "display_data"
    }
   ],
   "source": [
    "# print(train_set.classes)\n",
    "for images, labels in train_loader:\n",
    "#     print(images.shape, labels.shape)\n",
    "    break\n",
    "print(images[0].shape)\n",
    "show(images[0])\n",
    "# plt.savefig('./test.png')\n",
    "print(idx_to_actual[labels[0].detach().item()])"
   ]
  },
  {
   "cell_type": "code",
   "execution_count": 10,
   "metadata": {},
   "outputs": [],
   "source": [
    "class Classifier(nn.Module):\n",
    "    def __init__(self, num_labels=43, p=0.5):\n",
    "        super().__init__()\n",
    "        self.layers = nn.Sequential(\n",
    "            nn.Conv2d(in_channels=3, out_channels=8, kernel_size=(4,4), stride=2),\n",
    "            nn.MaxPool2d(kernel_size=(2,2), stride=1),\n",
    "            nn.ReLU(inplace=True),\n",
    "            \n",
    "            nn.Conv2d(in_channels=8, out_channels=16, kernel_size=(4,4)),\n",
    "            nn.MaxPool2d(kernel_size=(2,2), stride=1),\n",
    "            nn.ReLU(inplace=True),\n",
    "            \n",
    "            nn.Conv2d(in_channels=16, out_channels=32, kernel_size=(4,4)),\n",
    "            nn.ReLU(inplace=True),\n",
    "            \n",
    "            nn.Conv2d(in_channels=32, out_channels=10, kernel_size=(4,4), stride=2),\n",
    "            nn.MaxPool2d(kernel_size=(2,2), stride=1),\n",
    "            nn.ReLU(inplace=True),\n",
    "            \n",
    "            nn.Flatten(),\n",
    "            nn.Dropout(p),\n",
    "            nn.Linear(4410, 1000),\n",
    "            nn.ReLU(inplace=True),\n",
    "            nn.Dropout(p),\n",
    "            nn.Linear(1000, num_labels)\n",
    "        )\n",
    "    \n",
    "    def forward(self, x):\n",
    "        return self.layers(x)"
   ]
  },
  {
   "cell_type": "code",
   "execution_count": 11,
   "metadata": {},
   "outputs": [
    {
     "name": "stdout",
     "output_type": "stream",
     "text": [
      "torch.Size([200, 3, 112, 112])\n",
      "torch.Size([200, 43])\n"
     ]
    }
   ],
   "source": [
    "model = Classifier()\n",
    "print(images.shape)\n",
    "output = model(images)\n",
    "print(output.shape)"
   ]
  },
  {
   "cell_type": "code",
   "execution_count": 12,
   "metadata": {},
   "outputs": [],
   "source": [
    "from tqdm.notebook import tqdm\n",
    "import torch.nn.functional as F\n",
    "\n",
    "def train_network(model, train_loader, val_loader, criterion, optimizer, nepoch=5):\n",
    "    train_loss = []\n",
    "    val_loss = []\n",
    "    try:\n",
    "        for epoch in tqdm(range(nepoch)):\n",
    "            print('EPOCH %d'%epoch)\n",
    "            model.train()\n",
    "            total_loss = 0\n",
    "            count = 0\n",
    "            for inputs, labels in train_loader:\n",
    "                optimizer.zero_grad()\n",
    "                outputs = model.forward(inputs)\n",
    "                loss = criterion(outputs, labels)\n",
    "                loss.backward()\n",
    "                optimizer.step()\n",
    "                total_loss += loss.item()\n",
    "                count += 1\n",
    "            print('{:>12s} {:>7.5f}'.format('Train loss:', total_loss/count))\n",
    "            train_loss.append(total_loss/count)\n",
    "            \n",
    "            model.eval()\n",
    "            with torch.no_grad():\n",
    "                total_loss = 0\n",
    "                count = 0\n",
    "                for inputs, labels in val_loader:\n",
    "                    outputs = model.forward(inputs)\n",
    "                    loss = criterion(outputs, labels)\n",
    "                    total_loss += loss.item()\n",
    "                    count += 1\n",
    "                print('{:>12s} {:>7.5f}'.format('Val loss:', total_loss/count))\n",
    "                val_loss.append(total_loss/count)\n",
    "            print()\n",
    "    except KeyboardInterrupt:\n",
    "        print('Exiting from training early')\n",
    "    return train_loss, val_loss\n",
    "\n",
    "def test_network(model, test_loader, mode):\n",
    "    correct = 0\n",
    "    total = 0\n",
    "    true, pred = [], []\n",
    "    model.eval()\n",
    "    with torch.no_grad():\n",
    "        for inputs, labels  in test_loader:\n",
    "            outputs = model.forward(inputs)\n",
    "            predicted = torch.max(outputs, dim=1)[1] # get predicted class label for each test example.\n",
    "            total += labels.size(0)\n",
    "            correct += (predicted == labels).sum().item()\n",
    "            true.append(labels)\n",
    "            pred.append(predicted)\n",
    "    acc = (100 * correct / total)\n",
    "    print('%s accuracy: %0.3f' % (mode, acc))\n",
    "    true = np.concatenate(true)\n",
    "    pred = np.concatenate(pred)\n",
    "    return acc, true, pred"
   ]
  },
  {
   "cell_type": "code",
   "execution_count": 13,
   "metadata": {},
   "outputs": [
    {
     "data": {
      "application/vnd.jupyter.widget-view+json": {
       "model_id": "855bfc3a7cc14ed29e8b203d3d17b983",
       "version_major": 2,
       "version_minor": 0
      },
      "text/plain": [
       "HBox(children=(IntProgress(value=0, max=15), HTML(value='')))"
      ]
     },
     "metadata": {},
     "output_type": "display_data"
    },
    {
     "name": "stdout",
     "output_type": "stream",
     "text": [
      "EPOCH 0\n",
      " Train loss: 2.18392\n",
      "   Val loss: 0.88093\n",
      "\n",
      "EPOCH 1\n",
      " Train loss: 0.53640\n",
      "   Val loss: 0.18533\n",
      "\n",
      "EPOCH 2\n",
      " Train loss: 0.22610\n",
      "   Val loss: 0.10360\n",
      "\n",
      "EPOCH 3\n",
      " Train loss: 0.15686\n",
      "   Val loss: 0.07752\n",
      "\n",
      "EPOCH 4\n",
      " Train loss: 0.12199\n",
      "   Val loss: 0.06622\n",
      "\n",
      "EPOCH 5\n",
      " Train loss: 0.09569\n",
      "   Val loss: 0.05225\n",
      "\n",
      "EPOCH 6\n",
      " Train loss: 0.07971\n",
      "   Val loss: 0.04018\n",
      "\n",
      "EPOCH 7\n",
      " Train loss: 0.07106\n",
      "   Val loss: 0.04375\n",
      "\n",
      "EPOCH 8\n",
      " Train loss: 0.07193\n",
      "   Val loss: 0.03782\n",
      "\n",
      "EPOCH 9\n",
      " Train loss: 0.05723\n",
      "   Val loss: 0.04095\n",
      "\n",
      "EPOCH 10\n",
      " Train loss: 0.05623\n",
      "   Val loss: 0.03874\n",
      "\n",
      "EPOCH 11\n",
      " Train loss: 0.05455\n",
      "   Val loss: 0.03320\n",
      "\n",
      "EPOCH 12\n",
      " Train loss: 0.04423\n",
      "   Val loss: 0.03601\n",
      "\n",
      "EPOCH 13\n",
      " Train loss: 0.04424\n",
      "   Val loss: 0.03356\n",
      "\n",
      "EPOCH 14\n",
      " Train loss: 0.04188\n",
      "   Val loss: 0.03053\n",
      "\n",
      "\n",
      "[2.1839216351509094, 0.5363959364466748, 0.22609953308677944, 0.15685586193523837, 0.12198883419235547, 0.09568683370568995, 0.07971353025443978, 0.07105871937158754, 0.07193305686452968, 0.05723059336302307, 0.05622627669261337, 0.05455414859030796, 0.04422768813263267, 0.044242941962534005, 0.04188315443810349] [0.8809311419725419, 0.18533284217119217, 0.10359750110656023, 0.07752365376800299, 0.0662195261567831, 0.05225484254769981, 0.04017981893848628, 0.043751161987893285, 0.03781653172336519, 0.040954607212916015, 0.038735981192439796, 0.033202068554237484, 0.03600547236273997, 0.03355681670363993, 0.03052525983657688]\n"
     ]
    }
   ],
   "source": [
    "# train the network\n",
    "lr = 1e-3\n",
    "model = Classifier()\n",
    "criterion = torch.nn.CrossEntropyLoss()\n",
    "optimizer = torch.optim.Adam(model.parameters(), lr)\n",
    "\n",
    "train_loss, val_loss = train_network(model, train_loader, val_loader, criterion, optimizer, nepoch=15)\n",
    "print(train_loss, val_loss)"
   ]
  },
  {
   "cell_type": "code",
   "execution_count": 14,
   "metadata": {},
   "outputs": [
    {
     "name": "stdout",
     "output_type": "stream",
     "text": [
      "Test accuracy: 96.136\n"
     ]
    }
   ],
   "source": [
    "acc, true, pred = test_network(model, test_loader, 'Test')"
   ]
  },
  {
   "cell_type": "code",
   "execution_count": 15,
   "metadata": {},
   "outputs": [
    {
     "data": {
      "text/plain": [
       "<matplotlib.colorbar.Colorbar at 0x1a60fa9eb08>"
      ]
     },
     "execution_count": 15,
     "metadata": {},
     "output_type": "execute_result"
    },
    {
     "data": {
      "image/png": "[encoded data removed]",
      "text/plain": [
       "<Figure size 288x288 with 2 Axes>"
      ]
     },
     "metadata": {
      "needs_background": "light"
     },
     "output_type": "display_data"
    }
   ],
   "source": [
    "# contingency matrix\n",
    "all_preds = pred\n",
    "all_targets = true\n",
    "\n",
    "# create contingency table\n",
    "contingency = np.zeros((num_labels, num_labels))\n",
    "for i in range(len(all_preds)):\n",
    "  actual = all_targets[i]\n",
    "  model_val = pred[i]\n",
    "  contingency[model_val][actual] += 1\n",
    "\n",
    "plt.matshow(contingency)\n",
    "plt.colorbar()"
   ]
  },
  {
   "cell_type": "code",
   "execution_count": 13,
   "metadata": {},
   "outputs": [],
   "source": [
    "# Save model state for future retrieval\n",
    "def save_model():\n",
    "    path = './GTSRB_Model.pth'\n",
    "    if os.path.exists(path):\n",
    "        os.remove(path)\n",
    "    torch.save(model.state_dict(), path)\n",
    "# save_model()"
   ]
  },
  {
   "cell_type": "code",
   "execution_count": 16,
   "metadata": {
    "scrolled": false
   },
   "outputs": [
    {
     "data": {
      "text/plain": [
       "<matplotlib.legend.Legend at 0x1a60e55cec8>"
      ]
     },
     "execution_count": 16,
     "metadata": {},
     "output_type": "execute_result"
    },
    {
     "data": {
      "image/png": "[encoded data removed]",
      "text/plain": [
       "<Figure size 1080x720 with 1 Axes>"
      ]
     },
     "metadata": {
      "needs_background": "light"
     },
     "output_type": "display_data"
    }
   ],
   "source": [
    "# Plot training and validation loss\n",
    "fig, ax = plt.subplots(figsize=(15, 10))\n",
    "ax.plot(train_loss, label='Training Loss')\n",
    "ax.plot(val_loss, label='Validation Loss')\n",
    "ax.set_title('Average Loss per Epoch')\n",
    "ax.set_xlabel('Epoch')\n",
    "ax.set_ylabel('Average Loss')\n",
    "ax.legend()"
   ]
  },
  {
   "cell_type": "code",
   "execution_count": 11,
   "metadata": {},
   "outputs": [],
   "source": [
    "# Load saved model\n",
    "def load_model(model):\n",
    "    path = './GTSRB_Model.pth'\n",
    "    model.load_state_dict(torch.load(path))\n",
    "model = Classifier()\n",
    "load_model(model)\n",
    "# acc, true, pred = test_network(model, test_loader, 'Test')"
   ]
  },
  {
   "cell_type": "code",
   "execution_count": 100,
   "metadata": {},
   "outputs": [],
   "source": [
    "# Find and visualize 2 good examples and 2 bad examples\n",
    "all_incorrect = []\n",
    "all_incorrect_indices = []\n",
    "all_correct = []\n",
    "all_correct_indices = []\n",
    "for i in range(len(true)):\n",
    "    if true[i] != pred[i]:\n",
    "        all_incorrect.append(test_set[i][0])\n",
    "        all_incorrect_indices.append(i)\n",
    "    else:\n",
    "        all_correct.append(test_set[i][0])\n",
    "        all_correct_indices.append(i)\n"
   ]
  },
  {
   "cell_type": "code",
   "execution_count": 157,
   "metadata": {
    "scrolled": false
   },
   "outputs": [
    {
     "name": "stdout",
     "output_type": "stream",
     "text": [
      "12135\n",
      "PREDICTED/ACTUAL Label:: 13\n"
     ]
    },
    {
     "data": {
      "image/png": "[encoded data removed]",
      "text/plain": [
       "<Figure size 432x288 with 1 Axes>"
      ]
     },
     "metadata": {},
     "output_type": "display_data"
    }
   ],
   "source": [
    "# total_incorrect = (true != pred).sum().item()\n",
    "# if total_incorrect != len(all_incorrect):\n",
    "#     print(\"NOT RECONCILED\")\n",
    "\n",
    "# print(total_incorrect)\n",
    "# index = 19\n",
    "# print(\"PREDICTED LABEL:: %s\"%(idx_to_actual[pred[all_incorrect_indices[index]]]))\n",
    "# print(\"ACTUAL LABEL:: %s\"%(idx_to_actual[true[all_incorrect_indices[index]]]))\n",
    "# show(all_incorrect[index])\n",
    "\n",
    "total_correct = (true == pred).sum().item()\n",
    "if total_correct != len(all_correct):\n",
    "    print(\"NOT RECONCILED\")\n",
    "\n",
    "print(total_correct)\n",
    "index = 2517\n",
    "print(\"PREDICTED/ACTUAL Label:: %s\"%(idx_to_actual[pred[all_correct_indices[index]]]))\n",
    "show(all_correct[index])\n",
    "\n",
    "# Bad examples: 3, 12 (could be because the brightness is higher than other 30 images), 6, 7, 17, 19 (blurry image) \n",
    "# Good examples: 1930, 2517 (has color of yellow but still gets the answer correct),  \n",
    "# (good at recognizing different shape and brighter color of sign but seems to prioritize color over shape), "
   ]
  },
  {
   "cell_type": "code",
   "execution_count": 99,
   "metadata": {},
   "outputs": [
    {
     "name": "stdout",
     "output_type": "stream",
     "text": [
      "Incorrect:: {0: 1, 6: 1, 13: 1, 8: 2, 17: 2, 29: 2, 30: 2, 27: 3, 28: 3, 33: 3, 5: 5, 25: 5, 31: 5, 12: 6, 15: 6, 22: 6, 32: 6, 2: 7, 3: 7, 21: 7, 35: 9, 9: 10, 1: 12, 23: 13, 4: 14, 40: 14, 37: 15, 36: 18, 24: 19, 34: 19, 39: 25, 41: 26, 16: 29, 18: 31, 19: 33, 38: 34, 14: 40, 10: 54}\n",
      "\n",
      "Correct:: {36: 42, 14: 50, 31: 55, 0: 59, 11: 60, 20: 60, 26: 60, 37: 75, 35: 81, 22: 84, 33: 87, 17: 88, 13: 89, 15: 114, 28: 117, 30: 118, 16: 121, 39: 125, 24: 131, 21: 143, 19: 147, 8: 148, 27: 207, 7: 210, 25: 265, 6: 269, 10: 336, 9: 350, 29: 388, 3: 413, 41: 424, 40: 436, 23: 437, 18: 449, 42: 480, 38: 596, 34: 641, 2: 653, 4: 676, 32: 684, 1: 708, 5: 715, 12: 744}\n"
     ]
    }
   ],
   "source": [
    "incorrect = {}\n",
    "correct = {}\n",
    "for actual, predicted in zip(true, pred):\n",
    "    if actual != predicted:\n",
    "        if not actual in incorrect.keys():\n",
    "            incorrect[actual] = 0\n",
    "        incorrect[actual] += 1\n",
    "    else:\n",
    "        if not actual in correct.keys():\n",
    "            correct[actual] = 0\n",
    "        correct[actual] += 1\n",
    "incorrect = {k: v for k, v in sorted(incorrect.items(), key=lambda item: item[1])}\n",
    "correct = {k: v for k, v in sorted(correct.items(), key=lambda item: item[1])}\n",
    "print(\"Incorrect:: \" + str(incorrect))\n",
    "print()\n",
    "print(\"Correct:: \" + str(correct))"
   ]
  },
  {
   "cell_type": "markdown",
   "metadata": {},
   "source": [
    "# EXPERIMENT ONE"
   ]
  },
  {
   "cell_type": "code",
   "execution_count": 12,
   "metadata": {},
   "outputs": [],
   "source": [
    "# Experiment 1: Gradient Visualization\n",
    "class BackPropVisualization():\n",
    "    def __init__(self, model):\n",
    "        self.model = model\n",
    "        self.model.eval()\n",
    "    \n",
    "    def get_gradients(self, image, target):\n",
    "        image = image.clone().detach().requires_grad_(True)\n",
    "        output = self.model(image)\n",
    "        self.model.zero_grad()\n",
    "        test = torch.zeros((1, num_labels))\n",
    "        test[0][target] = 1\n",
    "        output.backward(gradient=test)\n",
    "        return image.grad.data.numpy()[0]"
   ]
  },
  {
   "cell_type": "code",
   "execution_count": 203,
   "metadata": {},
   "outputs": [],
   "source": [
    "def find_indices(train_set):\n",
    "    dic = dict()\n",
    "    index = 0\n",
    "    for i in range(num_labels):\n",
    "        while test_set[index][1] != i:\n",
    "            index += 1\n",
    "        dic[i] = index\n",
    "    return dic"
   ]
  },
  {
   "cell_type": "code",
   "execution_count": 204,
   "metadata": {},
   "outputs": [],
   "source": [
    "# show(train_set[0][0])\n",
    "dic = find_indices(train_set)"
   ]
  },
  {
   "cell_type": "code",
   "execution_count": 207,
   "metadata": {},
   "outputs": [
    {
     "name": "stdout",
     "output_type": "stream",
     "text": [
      "0: 0\n",
      "1: 60\n",
      "2: 780\n",
      "3: 1440\n",
      "4: 1860\n",
      "5: 2550\n",
      "6: 3270\n",
      "7: 3540\n",
      "8: 3750\n",
      "9: 3900\n",
      "10: 4260\n",
      "11: 4650\n",
      "12: 4710\n",
      "13: 5460\n",
      "14: 5550\n",
      "15: 5640\n",
      "16: 5760\n",
      "17: 5910\n",
      "18: 6000\n",
      "19: 6480\n",
      "20: 6660\n",
      "21: 6720\n",
      "22: 6870\n",
      "23: 6960\n",
      "24: 7410\n",
      "25: 7560\n",
      "26: 7830\n",
      "27: 7890\n",
      "28: 8100\n",
      "29: 8220\n",
      "30: 8610\n",
      "31: 8730\n",
      "32: 8790\n",
      "33: 9480\n",
      "34: 9570\n",
      "35: 10230\n",
      "36: 10320\n",
      "37: 10380\n",
      "38: 10470\n",
      "39: 11100\n",
      "40: 11250\n",
      "41: 11700\n",
      "42: 12150\n"
     ]
    }
   ],
   "source": [
    "for key in dic.keys():\n",
    "    print(str(key) + \": \" + str(dic[key]))"
   ]
  },
  {
   "cell_type": "code",
   "execution_count": 231,
   "metadata": {},
   "outputs": [],
   "source": [
    "def format_image(grad):\n",
    "    grad -= grad.min()\n",
    "    grad /= grad.max()\n",
    "    grad = grad.transpose(1, 2, 0)\n",
    "    if np.max(grad) <= 1:\n",
    "        grad = (grad*255).astype(np.uint8)\n",
    "    return grad"
   ]
  },
  {
   "cell_type": "code",
   "execution_count": 232,
   "metadata": {},
   "outputs": [],
   "source": [
    "# save the original images that are going to be used to create the gradient visualizations\n",
    "def save_originals():\n",
    "    for i in range(num_labels):\n",
    "        show(test_set[dic[i]][0])\n",
    "        path = os.path.join('./GTSRB Graphs/Experiment One/', 'orig' + str(idx_to_actual[i])+'.png')\n",
    "        plt.savefig(path)"
   ]
  },
  {
   "cell_type": "code",
   "execution_count": 233,
   "metadata": {},
   "outputs": [],
   "source": [
    "import torchvision\n",
    "from PIL import Image\n",
    "def show_gradient(index, save=False):\n",
    "    image = test_set[index][0].reshape(1, 3, 112, 112)\n",
    "    target = test_set[index][1]\n",
    "    test = torchvision.models.alexnet(pretrained=True)\n",
    "    BackPropVisual = BackPropVisualization(model)\n",
    "    grad = BackPropVisual.get_gradients(image, target)\n",
    "    grad = format_image(grad)\n",
    "    im = Image.fromarray(grad)\n",
    "    im.show()\n",
    "    if save:\n",
    "        path = os.path.join('./GTSRB Graphs/Experiment One/', str(idx_to_actual[target])+'.png')\n",
    "        im.save(path)"
   ]
  },
  {
   "cell_type": "code",
   "execution_count": 234,
   "metadata": {},
   "outputs": [],
   "source": [
    "def save_all():\n",
    "    for i in range(num_labels):\n",
    "        show_gradient(dic[i], save=True)"
   ]
  },
  {
   "cell_type": "code",
   "execution_count": 236,
   "metadata": {},
   "outputs": [],
   "source": [
    "show_gradient(dic[0])"
   ]
  },
  {
   "cell_type": "markdown",
   "metadata": {},
   "source": [
    "# EXPERIMENT TWO"
   ]
  },
  {
   "cell_type": "code",
   "execution_count": 17,
   "metadata": {},
   "outputs": [],
   "source": [
    "class ClassifierDepth(nn.Module):\n",
    "    def __init__(self, num_labels=43, p=0.5):\n",
    "        super().__init__()\n",
    "        self.layers = nn.Sequential(\n",
    "            nn.Conv2d(in_channels=3, out_channels=8, kernel_size=(4,4), stride=2),\n",
    "            nn.MaxPool2d(kernel_size=(2,2), stride=1),\n",
    "            nn.ReLU(inplace=True),\n",
    "            \n",
    "            nn.Conv2d(in_channels=8, out_channels=16, kernel_size=(4,4)),\n",
    "            nn.MaxPool2d(kernel_size=(2,2), stride=1),\n",
    "            nn.ReLU(inplace=True),\n",
    "            \n",
    "            nn.Conv2d(in_channels=16, out_channels=32, kernel_size=(4,4)),\n",
    "            nn.ReLU(inplace=True),\n",
    "            \n",
    "            nn.Conv2d(in_channels=32, out_channels=10, kernel_size=(32,32), stride=2),\n",
    "            nn.MaxPool2d(kernel_size=(2,2), stride=1),\n",
    "            nn.ReLU(inplace=True),\n",
    "            \n",
    "            nn.Flatten(),\n",
    "            nn.Dropout(p),\n",
    "            nn.Linear(490, 1000),\n",
    "            nn.ReLU(inplace=True),\n",
    "            nn.Dropout(p),\n",
    "            nn.Linear(1000, num_labels)\n",
    "        )\n",
    "    \n",
    "    def forward(self, x):\n",
    "        return self.layers(x)"
   ]
  },
  {
   "cell_type": "code",
   "execution_count": 18,
   "metadata": {},
   "outputs": [
    {
     "data": {
      "application/vnd.jupyter.widget-view+json": {
       "model_id": "586d4ba9a1bd49aab4bb7d64b1a3a819",
       "version_major": 2,
       "version_minor": 0
      },
      "text/plain": [
       "HBox(children=(IntProgress(value=0, max=15), HTML(value='')))"
      ]
     },
     "metadata": {},
     "output_type": "display_data"
    },
    {
     "name": "stdout",
     "output_type": "stream",
     "text": [
      "EPOCH 0\n",
      " Train loss: 2.50649\n",
      "   Val loss: 1.06232\n",
      "\n",
      "EPOCH 1\n",
      " Train loss: 0.88290\n",
      "   Val loss: 0.36258\n",
      "\n",
      "EPOCH 2\n",
      " Train loss: 0.47149\n",
      "   Val loss: 0.19728\n",
      "\n",
      "EPOCH 3\n",
      " Train loss: 0.31452\n",
      "   Val loss: 0.12603\n",
      "\n",
      "EPOCH 4\n",
      " Train loss: 0.23985\n",
      "   Val loss: 0.07960\n",
      "\n",
      "EPOCH 5\n",
      " Train loss: 0.19607\n",
      "   Val loss: 0.06274\n",
      "\n",
      "EPOCH 6\n",
      " Train loss: 0.17122\n",
      "   Val loss: 0.05294\n",
      "\n",
      "EPOCH 7\n",
      " Train loss: 0.14675\n",
      "   Val loss: 0.05931\n",
      "\n",
      "EPOCH 8\n",
      " Train loss: 0.12999\n",
      "   Val loss: 0.05569\n",
      "\n",
      "EPOCH 9\n",
      " Train loss: 0.11486\n",
      "   Val loss: 0.04323\n",
      "\n",
      "EPOCH 10\n",
      " Train loss: 0.10412\n",
      "   Val loss: 0.03566\n",
      "\n",
      "EPOCH 11\n",
      " Train loss: 0.09425\n",
      "   Val loss: 0.04204\n",
      "\n",
      "EPOCH 12\n",
      " Train loss: 0.09543\n",
      "   Val loss: 0.03024\n",
      "\n",
      "EPOCH 13\n",
      " Train loss: 0.08245\n",
      "   Val loss: 0.03396\n",
      "\n",
      "EPOCH 14\n",
      " Train loss: 0.08605\n",
      "   Val loss: 0.03778\n",
      "\n",
      "\n",
      "[2.506487321045439, 0.8829034339573424, 0.47149121357222734, 0.3145152154446995, 0.2398456908383612, 0.1960701526558332, 0.17121925032408225, 0.1467518680597429, 0.12998761169317752, 0.1148578222883118, 0.10411993487827521, 0.09425392781126465, 0.09543049256554094, 0.08245118280167633, 0.08604750182416479] [1.062316569685936, 0.3625804454088211, 0.19728050976991654, 0.12602775171399117, 0.07959860097616911, 0.06273612082004547, 0.05294231055304408, 0.059309869352728126, 0.05569078456610441, 0.04323153959121555, 0.03566004240419716, 0.04204106978140772, 0.03024176796898246, 0.03396447082050145, 0.03778354108799249]\n"
     ]
    }
   ],
   "source": [
    "# train the network\n",
    "lr = 1e-3\n",
    "model = ClassifierDepth()\n",
    "criterion = torch.nn.CrossEntropyLoss()\n",
    "optimizer = torch.optim.Adam(model.parameters(), lr)\n",
    "\n",
    "train_loss, val_loss = train_network(model, train_loader, val_loader, criterion, optimizer, nepoch=15)\n",
    "print(train_loss, val_loss)"
   ]
  },
  {
   "cell_type": "code",
   "execution_count": 19,
   "metadata": {},
   "outputs": [
    {
     "name": "stdout",
     "output_type": "stream",
     "text": [
      "Test accuracy: 95.067\n"
     ]
    }
   ],
   "source": [
    "acc, true, pred = test_network(model, test_loader, 'Test')"
   ]
  },
  {
   "cell_type": "code",
   "execution_count": 20,
   "metadata": {},
   "outputs": [
    {
     "data": {
      "text/plain": [
       "<matplotlib.legend.Legend at 0x18101c19c08>"
      ]
     },
     "execution_count": 20,
     "metadata": {},
     "output_type": "execute_result"
    },
    {
     "data": {
      "image/png": "[encoded data removed]",
      "text/plain": [
       "<Figure size 1080x720 with 1 Axes>"
      ]
     },
     "metadata": {
      "needs_background": "light"
     },
     "output_type": "display_data"
    }
   ],
   "source": [
    "# Plot training and validation loss\n",
    "fig, ax = plt.subplots(figsize=(15, 10))\n",
    "ax.plot(train_loss, label='Training Loss')\n",
    "ax.plot(val_loss, label='Validation Loss')\n",
    "ax.set_title('Average Loss per Epoch')\n",
    "ax.set_xlabel('Epoch')\n",
    "ax.set_ylabel('Average Loss')\n",
    "ax.legend()"
   ]
  }
 ],
 "metadata": {
  "kernelspec": {
   "display_name": "Python 3",
   "language": "python",
   "name": "python3"
  },
  "language_info": {
   "codemirror_mode": {
    "name": "ipython",
    "version": 3
   },
   "file_extension": ".py",
   "mimetype": "text/x-python",
   "name": "python",
   "nbconvert_exporter": "python",
   "pygments_lexer": "ipython3",
   "version": "3.7.4"
  }
 },
 "nbformat": 4,
 "nbformat_minor": 2
}
